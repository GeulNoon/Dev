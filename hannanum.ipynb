{
 "cells": [
  {
   "cell_type": "code",
   "execution_count": 1,
   "metadata": {},
   "outputs": [
    {
     "name": "stdout",
     "output_type": "stream",
     "text": [
      "['최근', '들', '어', '도시', '의', '경쟁력', '향상', '을', '위하', 'ㄴ', '새롭', '은', '전략', '의', '하나', '로', '창조', '도시', '에', '대하', 'ㄴ', '논의', '가', '활발', '하', '게', '진행', '되', '고', '있', '다', '.']\n"
     ]
    }
   ],
   "source": [
    "from konlpy.tag import Hannanum\n",
    "hannanum = Hannanum()\n",
    "print(hannanum.morphs(u'최근 들어 도시의 경쟁력 향상을 위한 새로운 전략의 하나로 창조 도시에 대한 논의가 활발하게 진행되고 있다. '))"
   ]
  },
  {
   "cell_type": "code",
   "execution_count": 2,
   "metadata": {},
   "outputs": [
    {
     "name": "stdout",
     "output_type": "stream",
     "text": [
      "[('최근', 'M'), ('들', 'P'), ('어', 'E'), ('도시', 'N'), ('의', 'J'), ('경쟁력', 'N'), ('향상', 'N'), ('을', 'J'), ('위하', 'P'), ('ㄴ', 'E'), ('새롭', 'P'), ('은', 'E'), ('전략', 'N'), ('의', 'J'), ('하나', 'N'), ('로', 'J'), ('창조', 'N'), ('도시', 'N'), ('에', 'J'), ('대하', 'P'), ('ㄴ', 'E'), ('논의', 'N'), ('가', 'J'), ('활발', 'N'), ('하', 'X'), ('게', 'E'), ('진행', 'N'), ('되', 'X'), ('고', 'E'), ('있', 'P'), ('다', 'E'), ('.', 'S')]\n"
     ]
    }
   ],
   "source": [
    "print(hannanum.pos(u'최근 들어 도시의 경쟁력 향상을 위한 새로운 전략의 하나로 창조 도시에 대한 논의가 활발하게 진행되고 있다. '))"
   ]
  },
  {
   "cell_type": "code",
   "execution_count": 3,
   "metadata": {},
   "outputs": [
    {
     "name": "stdout",
     "output_type": "stream",
     "text": [
      "['도시', '경쟁력', '향상', '전략', '하나', '창조', '도시', '논의', '활발', '진행']\n"
     ]
    }
   ],
   "source": [
    "print(hannanum.nouns(u'최근 들어 도시의 경쟁력 향상을 위한 새로운 전략의 하나로 창조 도시에 대한 논의가 활발하게 진행되고 있다. '))"
   ]
  },
  {
   "cell_type": "code",
   "execution_count": 4,
   "metadata": {},
   "outputs": [
    {
     "name": "stdout",
     "output_type": "stream",
     "text": [
      "[('아버지가방에들어가', 'N'), ('이', 'J'), ('시ㄴ다', 'E')]\n"
     ]
    }
   ],
   "source": [
    "print(hannanum.pos(u'아버지가방에들어가신다'))"
   ]
  },
  {
   "cell_type": "code",
   "execution_count": null,
   "metadata": {},
   "outputs": [],
   "source": []
  }
 ],
 "metadata": {
  "kernelspec": {
   "display_name": "Python 3",
   "language": "python",
   "name": "python3"
  },
  "language_info": {
   "codemirror_mode": {
    "name": "ipython",
    "version": 3
   },
   "file_extension": ".py",
   "mimetype": "text/x-python",
   "name": "python",
   "nbconvert_exporter": "python",
   "pygments_lexer": "ipython3",
   "version": "3.8.3"
  }
 },
 "nbformat": 4,
 "nbformat_minor": 4
}
