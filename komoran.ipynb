{
 "cells": [
  {
   "cell_type": "code",
   "execution_count": 1,
   "metadata": {},
   "outputs": [
    {
     "name": "stdout",
     "output_type": "stream",
     "text": [
      "['최근', '들', '어', '도시', '의', '경쟁력', '향상', '을', '위하', 'ㄴ', '새롭', 'ㄴ', '전략', '의', '하나로', '창조', '도시', '에', '대하', 'ㄴ', '논의', '가', '활발', '하', '게', '진행', '되', '고', '있', '다', '.']\n"
     ]
    }
   ],
   "source": [
    "from konlpy.tag import Komoran\n",
    "komoran = Komoran()\n",
    "print(komoran.morphs(u'최근 들어 도시의 경쟁력 향상을 위한 새로운 전략의 하나로 창조 도시에 대한 논의가 활발하게 진행되고 있다. '))"
   ]
  },
  {
   "cell_type": "code",
   "execution_count": 2,
   "metadata": {},
   "outputs": [
    {
     "name": "stdout",
     "output_type": "stream",
     "text": [
      "[('최근', 'NNG'), ('들', 'VV'), ('어', 'EC'), ('도시', 'NNG'), ('의', 'JKG'), ('경쟁력', 'NNG'), ('향상', 'NNG'), ('을', 'JKO'), ('위하', 'VV'), ('ㄴ', 'ETM'), ('새롭', 'VA'), ('ㄴ', 'ETM'), ('전략', 'NNG'), ('의', 'JKG'), ('하나로', 'NNP'), ('창조', 'NNG'), ('도시', 'NNG'), ('에', 'JKB'), ('대하', 'VV'), ('ㄴ', 'ETM'), ('논의', 'NNG'), ('가', 'JKS'), ('활발', 'XR'), ('하', 'XSA'), ('게', 'EC'), ('진행', 'NNG'), ('되', 'XSV'), ('고', 'EC'), ('있', 'VX'), ('다', 'EF'), ('.', 'SF')]\n"
     ]
    }
   ],
   "source": [
    "print(komoran.pos(u'최근 들어 도시의 경쟁력 향상을 위한 새로운 전략의 하나로 창조 도시에 대한 논의가 활발하게 진행되고 있다. '))"
   ]
  },
  {
   "cell_type": "code",
   "execution_count": 3,
   "metadata": {},
   "outputs": [
    {
     "name": "stdout",
     "output_type": "stream",
     "text": [
      "['최근', '도시', '경쟁력', '향상', '전략', '하나로', '창조', '도시', '논의', '진행']\n"
     ]
    }
   ],
   "source": [
    "print(komoran.nouns(u'최근 들어 도시의 경쟁력 향상을 위한 새로운 전략의 하나로 창조 도시에 대한 논의가 활발하게 진행되고 있다. '))"
   ]
  },
  {
   "cell_type": "code",
   "execution_count": 4,
   "metadata": {},
   "outputs": [
    {
     "name": "stdout",
     "output_type": "stream",
     "text": [
      "[('아버지', 'NNG'), ('가방', 'NNP'), ('에', 'JKB'), ('들어가', 'VV'), ('시', 'EP'), ('ㄴ다', 'EC')]\n"
     ]
    }
   ],
   "source": [
    "print(komoran.pos(u'아버지가방에들어가신다'))"
   ]
  },
  {
   "cell_type": "code",
   "execution_count": null,
   "metadata": {},
   "outputs": [],
   "source": []
  }
 ],
 "metadata": {
  "kernelspec": {
   "display_name": "Python 3",
   "language": "python",
   "name": "python3"
  },
  "language_info": {
   "codemirror_mode": {
    "name": "ipython",
    "version": 3
   },
   "file_extension": ".py",
   "mimetype": "text/x-python",
   "name": "python",
   "nbconvert_exporter": "python",
   "pygments_lexer": "ipython3",
   "version": "3.8.3"
  }
 },
 "nbformat": 4,
 "nbformat_minor": 4
}
