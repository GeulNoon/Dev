{
  "nbformat": 4,
  "nbformat_minor": 0,
  "metadata": {
    "colab": {
      "name": "Untitled1",
      "provenance": [],
      "collapsed_sections": [],
      "authorship_tag": "ABX9TyO6wY4HuMQSE4RuBJM1aEKX",
      "include_colab_link": true
    },
    "kernelspec": {
      "name": "python3",
      "display_name": "Python 3"
    },
    "language_info": {
      "name": "python"
    }
  },
  "cells": [
    {
      "cell_type": "markdown",
      "metadata": {
        "id": "view-in-github",
        "colab_type": "text"
      },
      "source": [
        "<a href=\"https://colab.research.google.com/github/GeulNoon/GeulNoon/blob/Start/krdictAPI.ipynb\" target=\"_parent\"><img src=\"https://colab.research.google.com/assets/colab-badge.svg\" alt=\"Open In Colab\"/></a>"
      ]
    },
    {
      "cell_type": "code",
      "metadata": {
        "id": "kNJZHJkViWi8"
      },
      "source": [
        "#라이브러리 import\n",
        "import requests\n",
        "from bs4 import BeautifulSoup\n",
        "import pandas as pd\n",
        " \n",
        "#요청url 잘게 자르기\n",
        "url = \"https://krdict.korean.go.kr/api/search?\"\n",
        "serviceKey = \"certkey_no=3341&key=A715599AC7951FC091E0810CAA1EC810\"\n",
        "typeOfSearch=\"&type_search=search\"\n",
        "part = \"&part=word\"\n",
        "word = \"인재\"\n",
        "sort = \"&sort=popular\"\n",
        "\n",
        "def parse():\n",
        "    try:\n",
        "        TGT = item.find(\"target_code\").get_text()\n",
        "        WORD = item.find(\"word\").get_text()\n",
        "        DEF = item.find(\"definition\").get_text()\n",
        "        return {\n",
        "              \"코드\":TGT,\n",
        "              \"단어\":WORD,\n",
        "              \"뜻\":DEF,\n",
        "              }\n",
        "       \n",
        "    except AttributeError as e:\n",
        "        return {\n",
        "            \"코드\":None,\n",
        "            \"단어\":None,\n",
        "            \"뜻\":None,\n",
        "        }\n",
        "def target_parse():\n",
        "    try:\n",
        "        TGT = item.find(\"target_code\").get_text()\n",
        "        return {\n",
        "              TGT,\n",
        "              }\n",
        "       \n",
        "    except AttributeError as e:\n",
        "        return {\n",
        "            None,\n",
        "        }\n",
        "#parsing 하기\n",
        "result = requests.get(url+serviceKey+typeOfSearch+part+\"&q=\"+word+sort)\n",
        "soup = BeautifulSoup(result.text,'lxml-xml')\n",
        "items = soup.find_all(\"item\")\n",
        "row = []\n",
        "for item in items:\n",
        "    WORD = item.find(\"word\").get_text()\n",
        "    if WORD == word:\n",
        "      row.append(parse())\n",
        "\n",
        "target_row = []\n",
        "for item in items:\n",
        "    WORD = item.find(\"word\").get_text()\n",
        "    if WORD == word:\n",
        "      target_row.append(str(target_parse())[2:7])\n",
        "\n",
        "#용례 가져오기\n",
        "url2 = \"https://krdict.korean.go.kr/api/view?\"\n",
        "serviceKey2 = \"certkey_no=3341&key=A715599AC7951FC091E0810CAA1EC810\"\n",
        "typeOfSearch2 = \"&type_search=view\"\n",
        "method = \"&method=TARGET_CODE\"\n",
        "part2 = \"&part=word\"\n",
        "sort2 = \"&sort=popular\"\n",
        "\n",
        "def parse2():\n",
        "    try:\n",
        "        WORD = item.find(\"target_code\").get_text()\n",
        "        EX = item.find(\"example\").get_text()\n",
        "        return {\n",
        "              \"단어\":WORD,\n",
        "              \"용례\":EX,\n",
        "              }\n",
        "       \n",
        "    except AttributeError as e:\n",
        "        return {\n",
        "            \"단어\":None,\n",
        "            \"용례\":None,\n",
        "        }\n",
        "row2 = []\n",
        "for code in target_row:\n",
        "  word2 = code\n",
        "  result2 = requests.get(url2+serviceKey2+typeOfSearch2+method+part2+\"&q=\"+word2+sort2)\n",
        "  soup = BeautifulSoup(result2.text,'lxml-xml')\n",
        "  items2 = soup.find_all(\"item\")\n",
        "\n",
        "  for item in items2:\n",
        "    row2.append(parse2())\n",
        "#용례 보기 만들기\n",
        "row3 = []\n",
        "for item in row2:\n",
        "  row3.append(str(item)[22:])\n",
        "row4 = []\n",
        "for item in row3:\n",
        "  val = item.find(word)\n",
        "  string = item[:val] + \"____\" + item[val+len(word):]\n",
        "  row4.append(string)"
      ],
      "execution_count": null,
      "outputs": []
    },
    {
      "cell_type": "code",
      "metadata": {
        "id": "BRk_qw3z6m-s"
      },
      "source": [
        "#단어 코드(동음이의어 시 2개 이상)\n",
        "print(target_row)"
      ],
      "execution_count": null,
      "outputs": []
    },
    {
      "cell_type": "code",
      "metadata": {
        "colab": {
          "base_uri": "https://localhost:8080/"
        },
        "id": "9m9ZzSTOlF5q",
        "outputId": "67209983-cb4c-42c8-922f-a48bb8c3a959"
      },
      "source": [
        "#단어 코드, 단어, 뜻(동음이의어 시 2개 이상)\n",
        "print(row)"
      ],
      "execution_count": null,
      "outputs": [
        {
          "output_type": "stream",
          "name": "stdout",
          "text": [
            "[{'코드': '25092', '단어': '인재', '뜻': '학식과 능력을 갖추어 사회적으로 크게 쓸모가 있는 사람.'}, {'코드': '72531', '단어': '인재', '뜻': '사람에 의해 일어난 불행한 사고나 괴롭고 어려운 일.'}]\n"
          ]
        }
      ]
    },
    {
      "cell_type": "code",
      "metadata": {
        "id": "DptCwCqondSw",
        "colab": {
          "base_uri": "https://localhost:8080/"
        },
        "outputId": "72749f40-19f7-42c1-9b6a-9c4990d9dc23"
      },
      "source": [
        "# 단어코드, 용례(동음이의어 시 2개 이상)\n",
        "print(row2)"
      ],
      "execution_count": null,
      "outputs": [
        {
          "output_type": "stream",
          "name": "stdout",
          "text": [
            "[{'단어': '25092', '용례': '승규는 국내 최고의 대학을 우수한 성적으로 졸업한 유능한 인재이다.'}, {'단어': '72531', '용례': '직원들이 난로를 끄지 않고 퇴근해 회사에 불이 나는 인재가 발생했다.'}]\n"
          ]
        }
      ]
    },
    {
      "cell_type": "code",
      "metadata": {
        "id": "99kpmtH1_KaM"
      },
      "source": [
        "print(row3)"
      ],
      "execution_count": null,
      "outputs": []
    },
    {
      "cell_type": "code",
      "metadata": {
        "colab": {
          "base_uri": "https://localhost:8080/"
        },
        "id": "6_eoiMFnCWZP",
        "outputId": "33865184-4c2f-4858-e1b5-2b506635b81e"
      },
      "source": [
        "#용례 빈칸 문제 보기\n",
        "print(row4)"
      ],
      "execution_count": null,
      "outputs": [
        {
          "output_type": "stream",
          "name": "stdout",
          "text": [
            "[\"'승규는 국내 최고의 대학을 우수한 성적으로 졸업한 유능한 ____이다.'}\", \"'직원들이 난로를 끄지 않고 퇴근해 회사에 불이 나는 ____가 발생했다.'}\"]\n"
          ]
        }
      ]
    }
  ]
}