{
 "cells": [
  {
   "cell_type": "code",
   "execution_count": 4,
   "metadata": {},
   "outputs": [
    {
     "name": "stdout",
     "output_type": "stream",
     "text": [
      "['최근', '들', '어', '도시', '의', '경쟁력', '향상', '을', '위한', '새로운', '전략', '의', '하나', '로', '창조', '도시', '에', '대한', '논의', '가', '활발', '하', '게', '진행', '되', '고', '있', '다', '.']\n"
     ]
    }
   ],
   "source": [
    "from eunjeon import Mecab\n",
    "mecab=Mecab()\n",
    "print(mecab.morphs(u'최근 들어 도시의 경쟁력 향상을 위한 새로운 전략의 하나로 창조 도시에 대한 논의가 활발하게 진행되고 있다. '))"
   ]
  },
  {
   "cell_type": "code",
   "execution_count": 6,
   "metadata": {},
   "outputs": [
    {
     "name": "stdout",
     "output_type": "stream",
     "text": [
      "[('최근', 'NNG'), ('들', 'XSN'), ('어', 'IC'), ('도시', 'NNG'), ('의', 'JKG'), ('경쟁력', 'NNG'), ('향상', 'NNG'), ('을', 'JKO'), ('위한', 'VV+ETM'), ('새로운', 'VA+ETM'), ('전략', 'NNG'), ('의', 'JKG'), ('하나', 'NR'), ('로', 'JKB'), ('창조', 'NNG'), ('도시', 'NNG'), ('에', 'JKB'), ('대한', 'VV+ETM'), ('논의', 'NNG'), ('가', 'JKS'), ('활발', 'XR'), ('하', 'XSA'), ('게', 'EC'), ('진행', 'NNG'), ('되', 'XSV'), ('고', 'EC'), ('있', 'VX'), ('다', 'EF'), ('.', 'SF')]\n"
     ]
    }
   ],
   "source": [
    "print(mecab.pos(u'최근 들어 도시의 경쟁력 향상을 위한 새로운 전략의 하나로 창조 도시에 대한 논의가 활발하게 진행되고 있다. '))"
   ]
  },
  {
   "cell_type": "code",
   "execution_count": 7,
   "metadata": {},
   "outputs": [
    {
     "name": "stdout",
     "output_type": "stream",
     "text": [
      "['최근', '도시', '경쟁력', '향상', '전략', '하나', '창조', '도시', '논의', '진행']\n"
     ]
    }
   ],
   "source": [
    "print(mecab.nouns(u'최근 들어 도시의 경쟁력 향상을 위한 새로운 전략의 하나로 창조 도시에 대한 논의가 활발하게 진행되고 있다. '))"
   ]
  },
  {
   "cell_type": "code",
   "execution_count": 8,
   "metadata": {},
   "outputs": [
    {
     "name": "stdout",
     "output_type": "stream",
     "text": [
      "[('아버지', 'NNG'), ('가방', 'NNG'), ('에', 'JKB'), ('들어가', 'VV'), ('신다', 'EP+EC')]\n"
     ]
    }
   ],
   "source": [
    "print(mecab.pos(u'아버지가방에들어가신다'))"
   ]
  },
  {
   "cell_type": "code",
   "execution_count": null,
   "metadata": {},
   "outputs": [],
   "source": []
  }
 ],
 "metadata": {
  "kernelspec": {
   "display_name": "Python 3",
   "language": "python",
   "name": "python3"
  },
  "language_info": {
   "codemirror_mode": {
    "name": "ipython",
    "version": 3
   },
   "file_extension": ".py",
   "mimetype": "text/x-python",
   "name": "python",
   "nbconvert_exporter": "python",
   "pygments_lexer": "ipython3",
   "version": "3.8.3"
  }
 },
 "nbformat": 4,
 "nbformat_minor": 4
}
