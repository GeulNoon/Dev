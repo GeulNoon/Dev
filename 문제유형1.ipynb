{
 "cells": [
  {
   "cell_type": "code",
   "execution_count": 22,
   "metadata": {},
   "outputs": [],
   "source": [
    "#라이브러리 import\n",
    "\n",
    "import requests\n",
    "from bs4 import BeautifulSoup\n",
    "import pandas as pd\n",
    "\n",
    "requests.packages.urllib3.disable_warnings(requests.packages.urllib3.exceptions.InsecureRequestWarning)\n",
    "\n",
    "#요청url 잘게 자르기\n",
    "url = \"https://krdict.korean.go.kr/api/search?\"\n",
    "serviceKey = \"certkey_no=3349&key=EAE8B2C9214D808997D177C50333BBFA\"\n",
    "typeOfSearch=\"&type_search=search\"\n",
    "part = \"&part=word\"\n",
    "word = \"인재\"\n",
    "sort = \"&sort=popular\"\n",
    "\n",
    "def parse():\n",
    "    try:\n",
    "        TGT = item.find(\"target_code\").get_text()\n",
    "        WORD = item.find(\"word\").get_text()\n",
    "        DEF = item.find(\"definition\").get_text()\n",
    "        return {\n",
    "              \"코드\":TGT,\n",
    "              \"단어\":WORD,\n",
    "              \"뜻\":DEF,\n",
    "              }\n",
    "       \n",
    "    except AttributeError as e:\n",
    "        return {\n",
    "            \"코드\":None,\n",
    "            \"단어\":None,\n",
    "            \"뜻\":None,\n",
    "        }\n",
    "def target_parse():\n",
    "    try:\n",
    "        TGT = item.find(\"target_code\").get_text()\n",
    "        return {\n",
    "              TGT,\n",
    "              }\n",
    "       \n",
    "    except AttributeError as e:\n",
    "        return {\n",
    "            None,\n",
    "        }\n",
    "#parsing 하기\n",
    "result = requests.get(url+serviceKey+typeOfSearch+part+\"&q=\"+word+sort, verify=False)\n",
    "soup = BeautifulSoup(result.text,'lxml-xml')\n",
    "items = soup.find_all(\"item\")\n",
    "row = []\n",
    "for item in items:\n",
    "    WORD = item.find(\"word\").get_text()\n",
    "    if WORD == word:\n",
    "      row.append(parse())\n",
    "\n",
    "target_row = []\n",
    "for item in items:\n",
    "    WORD = item.find(\"word\").get_text()\n",
    "    if WORD == word:\n",
    "      target_row.append(str(target_parse())[2:7])\n",
    "\n",
    "#용례 가져오기\n",
    "url2 = \"https://krdict.korean.go.kr/api/view?\"\n",
    "serviceKey2 = \"certkey_no=3349&key=EAE8B2C9214D808997D177C50333BBFA\"\n",
    "typeOfSearch2 = \"&type_search=view\"\n",
    "method = \"&method=TARGET_CODE\"\n",
    "part2 = \"&part=word\"\n",
    "sort2 = \"&sort=popular\"\n",
    "\n",
    "def parse2():\n",
    "    try:\n",
    "        WORD = item.find(\"target_code\").get_text()\n",
    "        EX = item.find(\"example\").get_text()\n",
    "        return {\n",
    "              \"단어\":WORD,\n",
    "              \"용례\":EX,\n",
    "              }\n",
    "       \n",
    "    except AttributeError as e:\n",
    "        return {\n",
    "            \"단어\":None,\n",
    "            \"용례\":None,\n",
    "        }\n",
    "row2 = []\n",
    "for code in target_row:\n",
    "  word2 = code\n",
    "  result2 = requests.get(url2+serviceKey2+typeOfSearch2+method+part2+\"&q=\"+word2+sort2, verify=False)\n",
    "  soup = BeautifulSoup(result2.text,'lxml-xml')\n",
    "  items2 = soup.find_all(\"item\")\n",
    "\n",
    "for item in items2:\n",
    "    row2.append(parse2())\n",
    "#용례 보기 만들기\n",
    "row3 = []\n",
    "for item in row2:\n",
    "  row3.append(str(item)[22:])\n",
    "row4 = []\n",
    "for item in row3:\n",
    "  val = item.find(word)\n",
    "  string = item[:val] + \"____\" + item[val+len(word):]\n",
    "  row4.append(string)"
   ]
  },
  {
   "cell_type": "code",
   "execution_count": 23,
   "metadata": {},
   "outputs": [
    {
     "name": "stdout",
     "output_type": "stream",
     "text": [
      "['25092', '72531']\n"
     ]
    }
   ],
   "source": [
    "#단어 코드(동음이의어 시 2개 이상)\n",
    "print(target_row)"
   ]
  },
  {
   "cell_type": "code",
   "execution_count": 24,
   "metadata": {},
   "outputs": [
    {
     "name": "stdout",
     "output_type": "stream",
     "text": [
      "[{'코드': '25092', '단어': '인재', '뜻': '학식과 능력을 갖추어 사회적으로 크게 쓸모가 있는 사람.'}, {'코드': '72531', '단어': '인재', '뜻': '사람에 의해 일어난 불행한 사고나 괴롭고 어려운 일.'}]\n"
     ]
    }
   ],
   "source": [
    "#단어 코드, 단어, 뜻(동음이의어 시 2개 이상)\n",
    "print(row)"
   ]
  },
  {
   "cell_type": "code",
   "execution_count": 25,
   "metadata": {},
   "outputs": [
    {
     "name": "stdout",
     "output_type": "stream",
     "text": [
      "[{'단어': '72531', '용례': '직원들이 난로를 끄지 않고 퇴근해 회사에 불이 나는 인재가 발생했다.'}]\n"
     ]
    }
   ],
   "source": [
    "# 단어코드, 용례(동음이의어 시 2개 이상)\n",
    "print(row2)"
   ]
  },
  {
   "cell_type": "code",
   "execution_count": 26,
   "metadata": {},
   "outputs": [
    {
     "name": "stdout",
     "output_type": "stream",
     "text": [
      "[\"'직원들이 난로를 끄지 않고 퇴근해 회사에 불이 나는 인재가 발생했다.'}\"]\n"
     ]
    }
   ],
   "source": [
    "print(row3)"
   ]
  },
  {
   "cell_type": "code",
   "execution_count": 27,
   "metadata": {},
   "outputs": [
    {
     "name": "stdout",
     "output_type": "stream",
     "text": [
      "[\"'직원들이 난로를 끄지 않고 퇴근해 회사에 불이 나는 ____가 발생했다.'}\"]\n"
     ]
    }
   ],
   "source": [
    "#용례 빈칸 문제 보기\n",
    "print(row4)"
   ]
  },
  {
   "cell_type": "code",
   "execution_count": null,
   "metadata": {},
   "outputs": [],
   "source": []
  },
  {
   "cell_type": "code",
   "execution_count": null,
   "metadata": {},
   "outputs": [],
   "source": []
  }
 ],
 "metadata": {
  "kernelspec": {
   "display_name": "Python 3",
   "language": "python",
   "name": "python3"
  },
  "language_info": {
   "codemirror_mode": {
    "name": "ipython",
    "version": 3
   },
   "file_extension": ".py",
   "mimetype": "text/x-python",
   "name": "python",
   "nbconvert_exporter": "python",
   "pygments_lexer": "ipython3",
   "version": "3.8.3"
  }
 },
 "nbformat": 4,
 "nbformat_minor": 4
}
