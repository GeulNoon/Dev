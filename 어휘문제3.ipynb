{
 "cells": [
  {
   "cell_type": "code",
   "execution_count": 1,
   "id": "e16791b1",
   "metadata": {},
   "outputs": [],
   "source": [
    "import requests"
   ]
  },
  {
   "cell_type": "code",
   "execution_count": 2,
   "id": "8b1898c8",
   "metadata": {},
   "outputs": [],
   "source": [
    "from bs4 import BeautifulSoup\n",
    "import pandas as pd"
   ]
  },
  {
   "cell_type": "code",
   "execution_count": 6,
   "id": "4178d4a4",
   "metadata": {},
   "outputs": [
    {
     "name": "stderr",
     "output_type": "stream",
     "text": [
      "C:\\ProgramData\\Anaconda3\\lib\\site-packages\\urllib3\\connectionpool.py:1013: InsecureRequestWarning: Unverified HTTPS request is being made to host 'krdict.korean.go.kr'. Adding certificate verification is strongly advised. See: https://urllib3.readthedocs.io/en/1.26.x/advanced-usage.html#ssl-warnings\n",
      "  warnings.warn(\n"
     ]
    }
   ],
   "source": [
    "url_s = \"https://krdict.korean.go.kr/api/search?\"\n",
    "url_v = \"https://krdict.korean.go.kr/api/view?\"\n",
    "serviceKey =  \"certkey_no=3349&key=EAE8B2C9214D808997D177C50333BBFA\"\n",
    "typeOfSearch = \"&type_search=search\"\n",
    "part = \"&part=word\"\n",
    "sort = \"&sort=dict\"\n",
    "method = \"&method=TARTGET_CODE\"\n",
    "word = \"제기\"\n",
    "\n",
    "def parse():\n",
    "    try:\n",
    "        TGT = item.find(\"target_code\").get_text()\n",
    "        WORD = item.find(\"word\").get_text()\n",
    "        DEF = item.find(\"definition\").get_text()\n",
    "        return{\n",
    "            \"코드\":TGT,\n",
    "            \"단어\":WORD,\n",
    "            \"뜻\":DEF,\n",
    "        }\n",
    "    except AttributeError as e:\n",
    "        return{\n",
    "            \"코드\":None,\n",
    "            \"단어\":None,\n",
    "            \"뜻\":None,            \n",
    "        }\n",
    "    \n",
    "def target_parse():\n",
    "    try:\n",
    "        TGT = item.find(\"target_code\").get_text()\n",
    "        return{\n",
    "            TGT,\n",
    "        }\n",
    "    except AttributeError as e:\n",
    "        return{\n",
    "            None,\n",
    "        }\n",
    "\n",
    "result = requests.get(url_s+serviceKey+typeOfSearch+part+\"&q=\"+word+sort,verify=False)\n",
    "soup = BeautifulSoup(result.text,'lxml-xml')\n",
    "items = soup.find_all(\"item\")\n",
    "row = []\n",
    "for item in items:\n",
    "    WORD = item.find(\"word\").get_text()\n",
    "    if WORD == word:\n",
    "        row.append(parse())\n",
    "\n",
    "target_row = []\n",
    "for item in items:\n",
    "    WORD = item.find(\"word\").get_text()\n",
    "    if WORD == word:\n",
    "      target_row.append(str(target_parse())[2:7])\n",
    "    \n",
    "row2 = []\n",
    "for item in row:\n",
    "    row2.append(str(item)[22:])\n",
    "    \n",
    "row3 = []\n",
    "for item in row2:\n",
    "    row3.append(str(item)[11:])"
   ]
  },
  {
   "cell_type": "code",
   "execution_count": 7,
   "id": "ffa3cd32",
   "metadata": {
    "scrolled": false
   },
   "outputs": [
    {
     "name": "stdout",
     "output_type": "stream",
     "text": [
      "['75352', '75197']\n"
     ]
    }
   ],
   "source": [
    "print(target_row)"
   ]
  },
  {
   "cell_type": "code",
   "execution_count": 8,
   "id": "7108e1cd",
   "metadata": {
    "scrolled": true
   },
   "outputs": [
    {
     "name": "stdout",
     "output_type": "stream",
     "text": [
      "[{'코드': '75352', '단어': '제기', '뜻': '의견이나 문제를 내놓음.'}, {'코드': '75197', '단어': '제기', '뜻': '아이들이 발로 차며 노는 한국의 전통적인 장난감.'}]\n"
     ]
    }
   ],
   "source": [
    "print(row)"
   ]
  },
  {
   "cell_type": "code",
   "execution_count": 9,
   "id": "9d5c3167",
   "metadata": {},
   "outputs": [
    {
     "name": "stdout",
     "output_type": "stream",
     "text": [
      "[\"'제기', '뜻': '의견이나 문제를 내놓음.'}\", \"'제기', '뜻': '아이들이 발로 차며 노는 한국의 전통적인 장난감.'}\"]\n"
     ]
    }
   ],
   "source": [
    "print(row2)"
   ]
  },
  {
   "cell_type": "code",
   "execution_count": 10,
   "id": "a03e200b",
   "metadata": {
    "scrolled": true
   },
   "outputs": [
    {
     "name": "stdout",
     "output_type": "stream",
     "text": [
      "[\"'의견이나 문제를 내놓음.'}\", \"'아이들이 발로 차며 노는 한국의 전통적인 장난감.'}\"]\n"
     ]
    }
   ],
   "source": [
    "print(row3)"
   ]
  },
  {
   "cell_type": "code",
   "execution_count": 8,
   "id": "2a429262",
   "metadata": {},
   "outputs": [
    {
     "name": "stdout",
     "output_type": "stream",
     "text": [
      "'제기', '뜻': '아이들이 발로 차며 노는 한국의 전통적인 장난감.'}\n"
     ]
    }
   ],
   "source": [
    "print(item)"
   ]
  },
  {
   "cell_type": "code",
   "execution_count": null,
   "id": "c3465b5d",
   "metadata": {},
   "outputs": [],
   "source": []
  }
 ],
 "metadata": {
  "kernelspec": {
   "display_name": "Python 3 (ipykernel)",
   "language": "python",
   "name": "python3"
  },
  "language_info": {
   "codemirror_mode": {
    "name": "ipython",
    "version": 3
   },
   "file_extension": ".py",
   "mimetype": "text/x-python",
   "name": "python",
   "nbconvert_exporter": "python",
   "pygments_lexer": "ipython3",
   "version": "3.9.7"
  }
 },
 "nbformat": 4,
 "nbformat_minor": 5
}
